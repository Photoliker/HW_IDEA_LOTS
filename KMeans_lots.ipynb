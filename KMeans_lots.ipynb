{
 "cells": [
  {
   "cell_type": "code",
   "execution_count": 1,
   "metadata": {},
   "outputs": [],
   "source": [
    "import matplotlib.pyplot as plt\n",
    "%matplotlib inline\n",
    "import numpy as np\n",
    "import pandas as pd\n",
    "import hashlib\n",
    "from sklearn.cluster import KMeans"
   ]
  },
  {
   "cell_type": "markdown",
   "metadata": {},
   "source": [
    "## 신청자들의 데이터를 입력 (Test 코드에서는 변수생성)"
   ]
  },
  {
   "cell_type": "code",
   "execution_count": 2,
   "metadata": {},
   "outputs": [],
   "source": [
    "X = pd.DataFrame( [\n",
    "                    ['A','염X진'],['A','이X준'],['A','박X원'],['A','김X형']\n",
    "                   ,['B','박X철'],['B','양X빈'],['B','황X이'],['B','이X미']\n",
    "                   ,['C','김X원'],['C','염X혁'],['C','이X지'],['C','혜X인']\n",
    "                   ,['D','한X연'],['D','박X범'],['D','차X용'],['D','배X선']\n",
    "                  ], columns=['팀','이름']\n",
    "                )"
   ]
  },
  {
   "cell_type": "markdown",
   "metadata": {},
   "source": [
    "## 글자를 숫자로 변환\n",
    "### Hash 함수를 통해서 글자를 숫자로 변경하고 비슷한 이름과 팀명은 비슷하게 될수 있어\n",
    "### 입력된 순서의 Index 값의 첫번째 자리수를 곱해 데이터 변질시킵니다."
   ]
  },
  {
   "cell_type": "code",
   "execution_count": 3,
   "metadata": {},
   "outputs": [
    {
     "data": {
      "text/html": [
       "<div>\n",
       "<style scoped>\n",
       "    .dataframe tbody tr th:only-of-type {\n",
       "        vertical-align: middle;\n",
       "    }\n",
       "\n",
       "    .dataframe tbody tr th {\n",
       "        vertical-align: top;\n",
       "    }\n",
       "\n",
       "    .dataframe thead th {\n",
       "        text-align: right;\n",
       "    }\n",
       "</style>\n",
       "<table border=\"1\" class=\"dataframe\">\n",
       "  <thead>\n",
       "    <tr style=\"text-align: right;\">\n",
       "      <th></th>\n",
       "      <th>팀</th>\n",
       "      <th>이름</th>\n",
       "    </tr>\n",
       "  </thead>\n",
       "  <tbody>\n",
       "    <tr>\n",
       "      <th>0</th>\n",
       "      <td>968270</td>\n",
       "      <td>777287</td>\n",
       "    </tr>\n",
       "    <tr>\n",
       "      <th>1</th>\n",
       "      <td>796827</td>\n",
       "      <td>302981</td>\n",
       "    </tr>\n",
       "    <tr>\n",
       "      <th>2</th>\n",
       "      <td>593654</td>\n",
       "      <td>381824</td>\n",
       "    </tr>\n",
       "    <tr>\n",
       "      <th>3</th>\n",
       "      <td>390481</td>\n",
       "      <td>967270</td>\n",
       "    </tr>\n",
       "    <tr>\n",
       "      <th>4</th>\n",
       "      <td>605808</td>\n",
       "      <td>880598</td>\n",
       "    </tr>\n",
       "    <tr>\n",
       "      <th>5</th>\n",
       "      <td>7260</td>\n",
       "      <td>964080</td>\n",
       "    </tr>\n",
       "    <tr>\n",
       "      <th>6</th>\n",
       "      <td>408712</td>\n",
       "      <td>689060</td>\n",
       "    </tr>\n",
       "    <tr>\n",
       "      <th>7</th>\n",
       "      <td>810164</td>\n",
       "      <td>186945</td>\n",
       "    </tr>\n",
       "    <tr>\n",
       "      <th>8</th>\n",
       "      <td>43560</td>\n",
       "      <td>802136</td>\n",
       "    </tr>\n",
       "    <tr>\n",
       "      <th>9</th>\n",
       "      <td>924005</td>\n",
       "      <td>490587</td>\n",
       "    </tr>\n",
       "    <tr>\n",
       "      <th>10</th>\n",
       "      <td>804450</td>\n",
       "      <td>927738</td>\n",
       "    </tr>\n",
       "    <tr>\n",
       "      <th>11</th>\n",
       "      <td>880445</td>\n",
       "      <td>246213</td>\n",
       "    </tr>\n",
       "    <tr>\n",
       "      <th>12</th>\n",
       "      <td>344542</td>\n",
       "      <td>678800</td>\n",
       "    </tr>\n",
       "    <tr>\n",
       "      <th>13</th>\n",
       "      <td>16813</td>\n",
       "      <td>348900</td>\n",
       "    </tr>\n",
       "    <tr>\n",
       "      <th>14</th>\n",
       "      <td>689084</td>\n",
       "      <td>662676</td>\n",
       "    </tr>\n",
       "    <tr>\n",
       "      <th>15</th>\n",
       "      <td>361355</td>\n",
       "      <td>213575</td>\n",
       "    </tr>\n",
       "  </tbody>\n",
       "</table>\n",
       "</div>"
      ],
      "text/plain": [
       "         팀      이름\n",
       "0   968270  777287\n",
       "1   796827  302981\n",
       "2   593654  381824\n",
       "3   390481  967270\n",
       "4   605808  880598\n",
       "5     7260  964080\n",
       "6   408712  689060\n",
       "7   810164  186945\n",
       "8    43560  802136\n",
       "9   924005  490587\n",
       "10  804450  927738\n",
       "11  880445  246213\n",
       "12  344542  678800\n",
       "13   16813  348900\n",
       "14  689084  662676\n",
       "15  361355  213575"
      ]
     },
     "execution_count": 3,
     "metadata": {},
     "output_type": "execute_result"
    }
   ],
   "source": [
    "tmp = []\n",
    "for idx, a in X.iterrows():\n",
    "    if idx%10 == 0 :\n",
    "        var1=10\n",
    "        var2=1\n",
    "    else :\n",
    "        var1 = idx%10\n",
    "        var2 = 10 - idx%10\n",
    "    tmp.append([int(hashlib.sha1(a[0].encode()).hexdigest(),16)*(var1)%(10 ** 6), int(hashlib.sha1(a[1].encode()).hexdigest(),16)*(var2)%(10 ** 6)])\n",
    "\n",
    "X_encoded = pd.DataFrame(tmp, columns=['팀','이름'])\n",
    "X_encoded"
   ]
  },
  {
   "cell_type": "markdown",
   "metadata": {},
   "source": [
    "### 만들어진 값들을 그래프로 표기"
   ]
  },
  {
   "cell_type": "code",
   "execution_count": 4,
   "metadata": {
    "scrolled": true
   },
   "outputs": [
    {
     "data": {
      "text/plain": [
       "<matplotlib.collections.PathCollection at 0x7f2780d4fac8>"
      ]
     },
     "execution_count": 4,
     "metadata": {},
     "output_type": "execute_result"
    },
    {
     "data": {
      "image/png": "[encoded data removed]",
      "text/plain": [
       "<Figure size 432x288 with 1 Axes>"
      ]
     },
     "metadata": {
      "needs_background": "light"
     },
     "output_type": "display_data"
    }
   ],
   "source": [
    "plt.scatter(X_encoded['팀'], X_encoded['이름'], label='True Position')"
   ]
  },
  {
   "cell_type": "markdown",
   "metadata": {},
   "source": [
    "## Python Mechine Learning Library Sklearn KMeans \n",
    "### 비지도 학습 알고리즘인 KMeans 로 7개의 집단으로 분류"
   ]
  },
  {
   "cell_type": "code",
   "execution_count": 5,
   "metadata": {},
   "outputs": [
    {
     "data": {
      "text/plain": [
       "KMeans(algorithm='auto', copy_x=True, init='k-means++', max_iter=300,\n",
       "    n_clusters=7, n_init=10, n_jobs=None, precompute_distances='auto',\n",
       "    random_state=None, tol=0.0001, verbose=0)"
      ]
     },
     "execution_count": 5,
     "metadata": {},
     "output_type": "execute_result"
    }
   ],
   "source": [
    "kmeans = KMeans(n_clusters=7)\n",
    "kmeans.fit(X_encoded)"
   ]
  },
  {
   "cell_type": "markdown",
   "metadata": {},
   "source": [
    "### 각 집단의 중앙값(대표값) 확인"
   ]
  },
  {
   "cell_type": "code",
   "execution_count": 6,
   "metadata": {},
   "outputs": [
    {
     "name": "stdout",
     "output_type": "stream",
     "text": [
      "[[477504.5        297699.5       ]\n",
      " [498144.5        923934.        ]\n",
      " [ 16813.         348900.        ]\n",
      " [886360.         852512.5       ]\n",
      " [ 25410.         883108.        ]\n",
      " [852860.25       306681.5       ]\n",
      " [480779.33333333 676845.33333333]]\n"
     ]
    }
   ],
   "source": [
    "print(kmeans.cluster_centers_)"
   ]
  },
  {
   "cell_type": "markdown",
   "metadata": {},
   "source": [
    "## 색깔별로 7개의 집단이 구분됨을 확인하다.\n",
    "### 검정색은 집단의 대표값으로 가장 가까운 점의 사람이 당첨자입니다. ^^"
   ]
  },
  {
   "cell_type": "code",
   "execution_count": 7,
   "metadata": {},
   "outputs": [
    {
     "data": {
      "text/plain": [
       "<matplotlib.collections.PathCollection at 0x7f2780879eb8>"
      ]
     },
     "execution_count": 7,
     "metadata": {},
     "output_type": "execute_result"
    },
    {
     "data": {
      "image/png": "[encoded data removed]",
      "text/plain": [
       "<Figure size 432x288 with 1 Axes>"
      ]
     },
     "metadata": {
      "needs_background": "light"
     },
     "output_type": "display_data"
    }
   ],
   "source": [
    "plt.scatter(X_encoded['팀'], X_encoded['이름'], c=kmeans.labels_, cmap='rainbow')\n",
    "plt.scatter(kmeans.cluster_centers_[:,0], kmeans.cluster_centers_[:,1], color='black')"
   ]
  },
  {
   "cell_type": "code",
   "execution_count": 8,
   "metadata": {},
   "outputs": [
    {
     "data": {
      "text/plain": [
       "array([3, 5, 0, 1, 1, 4, 6, 5, 4, 5, 3, 5, 6, 2, 6, 0], dtype=int32)"
      ]
     },
     "execution_count": 8,
     "metadata": {},
     "output_type": "execute_result"
    }
   ],
   "source": [
    "kmeans.labels_"
   ]
  },
  {
   "cell_type": "code",
   "execution_count": 9,
   "metadata": {},
   "outputs": [
    {
     "data": {
      "text/html": [
       "<div>\n",
       "<style scoped>\n",
       "    .dataframe tbody tr th:only-of-type {\n",
       "        vertical-align: middle;\n",
       "    }\n",
       "\n",
       "    .dataframe tbody tr th {\n",
       "        vertical-align: top;\n",
       "    }\n",
       "\n",
       "    .dataframe thead th {\n",
       "        text-align: right;\n",
       "    }\n",
       "</style>\n",
       "<table border=\"1\" class=\"dataframe\">\n",
       "  <thead>\n",
       "    <tr style=\"text-align: right;\">\n",
       "      <th></th>\n",
       "      <th>팀</th>\n",
       "      <th>이름</th>\n",
       "      <th>군집</th>\n",
       "      <th>중앙값과의거리</th>\n",
       "    </tr>\n",
       "  </thead>\n",
       "  <tbody>\n",
       "    <tr>\n",
       "      <th>2</th>\n",
       "      <td>A</td>\n",
       "      <td>박X원</td>\n",
       "      <td>0</td>\n",
       "      <td>11.6057</td>\n",
       "    </tr>\n",
       "    <tr>\n",
       "      <th>15</th>\n",
       "      <td>D</td>\n",
       "      <td>배X선</td>\n",
       "      <td>0</td>\n",
       "      <td>20.8786</td>\n",
       "    </tr>\n",
       "    <tr>\n",
       "      <th>4</th>\n",
       "      <td>B</td>\n",
       "      <td>박X철</td>\n",
       "      <td>1</td>\n",
       "      <td>0.0000</td>\n",
       "    </tr>\n",
       "    <tr>\n",
       "      <th>3</th>\n",
       "      <td>A</td>\n",
       "      <td>김X형</td>\n",
       "      <td>1</td>\n",
       "      <td>11.6057</td>\n",
       "    </tr>\n",
       "    <tr>\n",
       "      <th>13</th>\n",
       "      <td>D</td>\n",
       "      <td>박X범</td>\n",
       "      <td>2</td>\n",
       "      <td>7.3095</td>\n",
       "    </tr>\n",
       "    <tr>\n",
       "      <th>10</th>\n",
       "      <td>C</td>\n",
       "      <td>이X지</td>\n",
       "      <td>3</td>\n",
       "      <td>12.7121</td>\n",
       "    </tr>\n",
       "    <tr>\n",
       "      <th>0</th>\n",
       "      <td>A</td>\n",
       "      <td>염X진</td>\n",
       "      <td>3</td>\n",
       "      <td>14.3414</td>\n",
       "    </tr>\n",
       "    <tr>\n",
       "      <th>8</th>\n",
       "      <td>C</td>\n",
       "      <td>김X원</td>\n",
       "      <td>4</td>\n",
       "      <td>8.2981</td>\n",
       "    </tr>\n",
       "    <tr>\n",
       "      <th>5</th>\n",
       "      <td>B</td>\n",
       "      <td>양X빈</td>\n",
       "      <td>4</td>\n",
       "      <td>11.1212</td>\n",
       "    </tr>\n",
       "    <tr>\n",
       "      <th>9</th>\n",
       "      <td>C</td>\n",
       "      <td>염X혁</td>\n",
       "      <td>5</td>\n",
       "      <td>5.6155</td>\n",
       "    </tr>\n",
       "    <tr>\n",
       "      <th>7</th>\n",
       "      <td>B</td>\n",
       "      <td>이X미</td>\n",
       "      <td>5</td>\n",
       "      <td>8.2981</td>\n",
       "    </tr>\n",
       "    <tr>\n",
       "      <th>1</th>\n",
       "      <td>A</td>\n",
       "      <td>이X준</td>\n",
       "      <td>5</td>\n",
       "      <td>14.3414</td>\n",
       "    </tr>\n",
       "    <tr>\n",
       "      <th>11</th>\n",
       "      <td>C</td>\n",
       "      <td>혜X인</td>\n",
       "      <td>5</td>\n",
       "      <td>19.7187</td>\n",
       "    </tr>\n",
       "    <tr>\n",
       "      <th>12</th>\n",
       "      <td>D</td>\n",
       "      <td>한X연</td>\n",
       "      <td>6</td>\n",
       "      <td>6.6463</td>\n",
       "    </tr>\n",
       "    <tr>\n",
       "      <th>6</th>\n",
       "      <td>B</td>\n",
       "      <td>황X이</td>\n",
       "      <td>6</td>\n",
       "      <td>11.1212</td>\n",
       "    </tr>\n",
       "    <tr>\n",
       "      <th>14</th>\n",
       "      <td>D</td>\n",
       "      <td>차X용</td>\n",
       "      <td>6</td>\n",
       "      <td>13.6251</td>\n",
       "    </tr>\n",
       "  </tbody>\n",
       "</table>\n",
       "</div>"
      ],
      "text/plain": [
       "    팀   이름  군집  중앙값과의거리\n",
       "2   A  박X원   0  11.6057\n",
       "15  D  배X선   0  20.8786\n",
       "4   B  박X철   1   0.0000\n",
       "3   A  김X형   1  11.6057\n",
       "13  D  박X범   2   7.3095\n",
       "10  C  이X지   3  12.7121\n",
       "0   A  염X진   3  14.3414\n",
       "8   C  김X원   4   8.2981\n",
       "5   B  양X빈   4  11.1212\n",
       "9   C  염X혁   5   5.6155\n",
       "7   B  이X미   5   8.2981\n",
       "1   A  이X준   5  14.3414\n",
       "11  C  혜X인   5  19.7187\n",
       "12  D  한X연   6   6.6463\n",
       "6   B  황X이   6  11.1212\n",
       "14  D  차X용   6  13.6251"
      ]
     },
     "metadata": {},
     "output_type": "display_data"
    }
   ],
   "source": [
    "distance = []\n",
    "for idx in range(len(kmeans.cluster_centers_)):\n",
    "    X_selected = X_encoded[kmeans.labels_ == idx]\n",
    "    for idx2 in range(len(X_selected)):\n",
    "        distance.append(int(np.sqrt((kmeans.cluster_centers_[idx][0] - X_selected.iloc[idx2, 0] )**2 + (kmeans.cluster_centers_[idx][1] -  X_selected.iloc[idx2, 1])**2))/10000)\n",
    "\n",
    "Z = pd.concat([X, pd.DataFrame(kmeans.labels_, columns=['군집']), pd.DataFrame(distance, columns=['중앙값과의거리'])], axis=1)\n",
    "Z = Z.sort_values(['군집', '중앙값과의거리'])\n",
    "display(Z)"
   ]
  },
  {
   "cell_type": "code",
   "execution_count": 10,
   "metadata": {
    "scrolled": false
   },
   "outputs": [
    {
     "data": {
      "text/html": [
       "<div>\n",
       "<style scoped>\n",
       "    .dataframe tbody tr th:only-of-type {\n",
       "        vertical-align: middle;\n",
       "    }\n",
       "\n",
       "    .dataframe tbody tr th {\n",
       "        vertical-align: top;\n",
       "    }\n",
       "\n",
       "    .dataframe thead th {\n",
       "        text-align: right;\n",
       "    }\n",
       "</style>\n",
       "<table border=\"1\" class=\"dataframe\">\n",
       "  <thead>\n",
       "    <tr style=\"text-align: right;\">\n",
       "      <th></th>\n",
       "      <th>팀</th>\n",
       "      <th>이름</th>\n",
       "      <th>중앙값과의거리</th>\n",
       "    </tr>\n",
       "    <tr>\n",
       "      <th>군집</th>\n",
       "      <th></th>\n",
       "      <th></th>\n",
       "      <th></th>\n",
       "    </tr>\n",
       "  </thead>\n",
       "  <tbody>\n",
       "    <tr>\n",
       "      <th>0</th>\n",
       "      <td>A</td>\n",
       "      <td>박X원</td>\n",
       "      <td>11.6057</td>\n",
       "    </tr>\n",
       "    <tr>\n",
       "      <th>1</th>\n",
       "      <td>B</td>\n",
       "      <td>박X철</td>\n",
       "      <td>0.0000</td>\n",
       "    </tr>\n",
       "    <tr>\n",
       "      <th>2</th>\n",
       "      <td>D</td>\n",
       "      <td>박X범</td>\n",
       "      <td>7.3095</td>\n",
       "    </tr>\n",
       "    <tr>\n",
       "      <th>3</th>\n",
       "      <td>C</td>\n",
       "      <td>이X지</td>\n",
       "      <td>12.7121</td>\n",
       "    </tr>\n",
       "    <tr>\n",
       "      <th>4</th>\n",
       "      <td>C</td>\n",
       "      <td>김X원</td>\n",
       "      <td>8.2981</td>\n",
       "    </tr>\n",
       "    <tr>\n",
       "      <th>5</th>\n",
       "      <td>C</td>\n",
       "      <td>염X혁</td>\n",
       "      <td>5.6155</td>\n",
       "    </tr>\n",
       "    <tr>\n",
       "      <th>6</th>\n",
       "      <td>D</td>\n",
       "      <td>한X연</td>\n",
       "      <td>6.6463</td>\n",
       "    </tr>\n",
       "  </tbody>\n",
       "</table>\n",
       "</div>"
      ],
      "text/plain": [
       "    팀   이름  중앙값과의거리\n",
       "군집                 \n",
       "0   A  박X원  11.6057\n",
       "1   B  박X철   0.0000\n",
       "2   D  박X범   7.3095\n",
       "3   C  이X지  12.7121\n",
       "4   C  김X원   8.2981\n",
       "5   C  염X혁   5.6155\n",
       "6   D  한X연   6.6463"
      ]
     },
     "execution_count": 10,
     "metadata": {},
     "output_type": "execute_result"
    }
   ],
   "source": [
    "Z.groupby(['군집']).first()"
   ]
  },
  {
   "cell_type": "code",
   "execution_count": null,
   "metadata": {},
   "outputs": [],
   "source": []
  }
 ],
 "metadata": {
  "kernelspec": {
   "display_name": "Python 3",
   "language": "python",
   "name": "python3"
  },
  "language_info": {
   "codemirror_mode": {
    "name": "ipython",
    "version": 3
   },
   "file_extension": ".py",
   "mimetype": "text/x-python",
   "name": "python",
   "nbconvert_exporter": "python",
   "pygments_lexer": "ipython3",
   "version": "3.7.3"
  }
 },
 "nbformat": 4,
 "nbformat_minor": 2
}
